{
 "cells": [
  {
   "cell_type": "code",
   "execution_count": 78,
   "id": "fae1619e",
   "metadata": {},
   "outputs": [],
   "source": [
    "import sympy as sp\n",
    "import numpy as np\n",
    "from sympy.physics.quantum import TensorProduct\n",
    "\n",
    "def get_bias_operator(A0, A1, B0, B1):\n",
    "    \n",
    "    n=A0.shape[0]\n",
    "    # Define the complex exponential factor\n",
    "    w_n = sp.exp((2*sp.pi*sp.I)/n)\n",
    "    \n",
    "    # Initialize the bias operator as a zero matrix in SymPy\n",
    "    bias_operator = TensorProduct(sp.zeros(n,n),sp.zeros(n,n))\n",
    "    \n",
    "    # Loop to compute the bias operator\n",
    "    for i in range(1, n):\n",
    "        bias_operator += TensorProduct(A0**i, B0**-i)\n",
    "        bias_operator += TensorProduct(A0**i, B1**i)\n",
    "        bias_operator += TensorProduct(A1**i, B0**-i)\n",
    "        bias_operator += (w_n**(-i)) * TensorProduct(A1**i, B1**i)\n",
    "    \n",
    "    return bias_operator\n",
    "\n",
    "def generate_state(n):\n",
    "    gamma = sp.sqrt(2*n + 2/(sp.sin(sp.pi/(2*n))))\n",
    "    z_n = sp.exp(sp.I*sp.pi/(2*n))\n",
    "    state = TensorProduct(sp.zeros(n,1),sp.zeros(n,1))\n",
    "    for i in range (0,n):\n",
    "        state = state + (1-z_n**(n+2*i+1))*(TensorProduct(cycle_permutation(i,n),cycle_permutation(-i,n)))\n",
    "    state = (1/gamma)*state\n",
    "    return state\n",
    "\n",
    "def cycle_permutation(i,n):\n",
    "    zero_vector = sp.zeros(n,1)\n",
    "    placement = i%n\n",
    "    zero_vector[placement, 0] = 1\n",
    "    return zero_vector\n",
    "\n",
    "def getz2(n):\n",
    "    return (sp.exp((sp.I*sp.pi)/(2*n)))**2\n",
    "\n",
    "def win_probability(bias_operator,state,n):\n",
    "    x = bias_operator*state\n",
    "    y = state.H*x\n",
    "    number = y[0,0].evalf() \n",
    "    return (number/(4*n) + 1/n)\n"
   ]
  },
  {
   "cell_type": "code",
   "execution_count": 95,
   "id": "33a73dce",
   "metadata": {},
   "outputs": [
    {
     "data": {
      "text/latex": [
       "$\\displaystyle 0.826640741219094$"
      ],
      "text/plain": [
       "0.826640741219094"
      ]
     },
     "execution_count": 95,
     "metadata": {},
     "output_type": "execute_result"
    }
   ],
   "source": [
    "A04 = sp.Matrix([[0,0,0,1], [1,0,0,0],[0,1,0,0],[0,0,1,0]])\n",
    "B04 = sp.Matrix([[0,0,0,1], [1,0,0,0],[0,1,0,0],[0,0,1,0]])\n",
    "B14 = sp.Matrix([[0,-getz2(4),0,0], [0,0,getz2(4),0],[0,0,0,getz2(4)],[getz2(4),0,0,0]])\n",
    "A14 = sp.Matrix([[0,0,0,-getz2(4)],[getz2(4),0,0,0],[0,getz2(4),0,0],[0,0,getz2(4),0]])\n",
    "bell_state = sp.Matrix([1/2,0,0,0,0,1/2,0,0,0,0,1/2,0,0,0,0,1/2])\n",
    "GHZ = sp.Matrix([1/(2**(1/2)),0,0,0,0,0,0,0,0,0,0,0,0,0,0,1/(2**(1/2))])\n",
    "W = sp.Matrix([0,1/2,1/2,0,1/2,0,0,0,1/2,0,0,0,0,0,0,0])\n",
    "rambo = sp.Matrix([1/2,0,0,1j/2,0,0,0,0,0,0,0,0,1/2+(1j/2),0,0,1/2*(np.cos(np.pi/4)+1j*np.sin(np.pi/4))])\n",
    "\n",
    "\n",
    "win_probability(get_bias_operator(A04,A14,B04,B14),generate_state(4),4)\n"
   ]
  },
  {
   "cell_type": "code",
   "execution_count": 81,
   "id": "a2fdf481",
   "metadata": {},
   "outputs": [
    {
     "data": {
      "text/latex": [
       "$\\displaystyle 0.853553390593274$"
      ],
      "text/plain": [
       "0.853553390593274"
      ]
     },
     "execution_count": 81,
     "metadata": {},
     "output_type": "execute_result"
    }
   ],
   "source": [
    "A0 = sp.Matrix([[0,1],[1,0]])\n",
    "A1 = sp.Matrix([[0,0-1j],[0+1j,0]])\n",
    "\n",
    "A0_U = sp.Matrix([[sp.sqrt(2)/2, sp.sqrt(2)/2], [-sp.sqrt(2)/2, sp.sqrt(2)/2]])\n",
    "A1_U = sp.Matrix([[-0.707106781186548*sp.I, -0.707106781186548],[-0.707106781186548, -0.707106781186548*sp.I]])\n",
    "\n",
    "win_probability(get_bias_operator(A0,A1,A0,A1),generate_state(2),2)\n"
   ]
  },
  {
   "cell_type": "code",
   "execution_count": 67,
   "id": "3892de1a",
   "metadata": {},
   "outputs": [
    {
     "data": {
      "text/latex": [
       "$\\displaystyle \\left[\\begin{matrix}0.380193217393253 - 0.254036986143979 i\\\\0\\\\0\\\\0\\\\0\\\\0\\\\0\\\\0.52900463853201 - 0.105225565005222 i\\\\0\\\\0\\\\0.52900463853201 + 0.105225565005222 i\\\\0\\\\0\\\\0.380193217393253 + 0.254036986143979 i\\\\0\\\\0\\end{matrix}\\right]$"
      ],
      "text/plain": [
       "Matrix([\n",
       "[0.380193217393253 - 0.254036986143979*I],\n",
       "[                                      0],\n",
       "[                                      0],\n",
       "[                                      0],\n",
       "[                                      0],\n",
       "[                                      0],\n",
       "[                                      0],\n",
       "[ 0.52900463853201 - 0.105225565005222*I],\n",
       "[                                      0],\n",
       "[                                      0],\n",
       "[ 0.52900463853201 + 0.105225565005222*I],\n",
       "[                                      0],\n",
       "[                                      0],\n",
       "[0.380193217393253 + 0.254036986143979*I],\n",
       "[                                      0],\n",
       "[                                      0]])"
      ]
     },
     "execution_count": 67,
     "metadata": {},
     "output_type": "execute_result"
    }
   ],
   "source": [
    "optimal_state = sp.Matrix([0.3801932173932526-0.25403698614397946j,0j,0j,0j,0j,0j,0j,0.5290046385320097-0.10522556500522232j,0j,0j,0.5290046385320097+0.10522556500522232j,0j,0j,0.3801932173932526+0.25403698614397946j,0j,0j])\n",
    "optimal_state"
   ]
  },
  {
   "cell_type": "code",
   "execution_count": 106,
   "id": "63334f34",
   "metadata": {},
   "outputs": [],
   "source": [
    "v_0 = get_bias_operator(A04,A14,B04,B14)*generate_state(4)"
   ]
  },
  {
   "cell_type": "code",
   "execution_count": 98,
   "id": "373b7d26",
   "metadata": {},
   "outputs": [
    {
     "data": {
      "text/latex": [
       "$\\displaystyle \\left[\\begin{matrix}3.50775837894588 - 2.34380921579406 i\\\\0\\\\0\\\\0\\\\0\\\\0\\\\0\\\\4.88073002994299 - 0.97083756479695 i\\\\0\\\\0\\\\4.88073002994299 + 0.97083756479695 i\\\\0\\\\0\\\\3.50775837894588 + 2.34380921579406 i\\\\0\\\\0\\end{matrix}\\right]$"
      ],
      "text/plain": [
       "Matrix([\n",
       "[3.50775837894588 - 2.34380921579406*I],\n",
       "[                                    0],\n",
       "[                                    0],\n",
       "[                                    0],\n",
       "[                                    0],\n",
       "[                                    0],\n",
       "[                                    0],\n",
       "[4.88073002994299 - 0.97083756479695*I],\n",
       "[                                    0],\n",
       "[                                    0],\n",
       "[4.88073002994299 + 0.97083756479695*I],\n",
       "[                                    0],\n",
       "[                                    0],\n",
       "[3.50775837894588 + 2.34380921579406*I],\n",
       "[                                    0],\n",
       "[                                    0]])"
      ]
     },
     "execution_count": 98,
     "metadata": {},
     "output_type": "execute_result"
    }
   ],
   "source": [
    "((4+(2/sp.sin(sp.pi/8)))*generate_state(4)).evalf()"
   ]
  },
  {
   "cell_type": "code",
   "execution_count": 104,
   "id": "26182ff9",
   "metadata": {},
   "outputs": [
    {
     "data": {
      "text/latex": [
       "$\\displaystyle \\left[\\begin{matrix}-2.0 \\cdot 10^{-136} + 9.0 \\cdot 10^{-137} i\\\\0\\\\0\\\\0\\\\0\\\\0\\\\0\\\\-2.0 \\cdot 10^{-139} + 4.0 \\cdot 10^{-140} i\\\\0\\\\0\\\\-2.0 \\cdot 10^{-139} - 4.0 \\cdot 10^{-140} i\\\\0\\\\0\\\\-2.0 \\cdot 10^{-136} - 9.0 \\cdot 10^{-137} i\\\\0\\\\0\\end{matrix}\\right]$"
      ],
      "text/plain": [
       "Matrix([\n",
       "[-0.e-136 + 0.e-136*I],\n",
       "[                   0],\n",
       "[                   0],\n",
       "[                   0],\n",
       "[                   0],\n",
       "[                   0],\n",
       "[                   0],\n",
       "[-0.e-139 + 0.e-140*I],\n",
       "[                   0],\n",
       "[                   0],\n",
       "[-0.e-139 - 0.e-140*I],\n",
       "[                   0],\n",
       "[                   0],\n",
       "[-0.e-136 - 0.e-136*I],\n",
       "[                   0],\n",
       "[                   0]])"
      ]
     },
     "execution_count": 104,
     "metadata": {},
     "output_type": "execute_result"
    }
   ],
   "source": [
    "((get_bias_operator(A04,A14,B04,B14)*generate_state(4)) - ((4+(2/sp.sin(sp.pi/8)))*generate_state(4))).evalf()"
   ]
  },
  {
   "cell_type": "code",
   "execution_count": 109,
   "id": "25814a0b",
   "metadata": {},
   "outputs": [
    {
     "data": {
      "text/latex": [
       "$\\displaystyle \\left[\\begin{matrix}9.22625185950551\\end{matrix}\\right]$"
      ],
      "text/plain": [
       "Matrix([[9.22625185950551]])"
      ]
     },
     "execution_count": 109,
     "metadata": {},
     "output_type": "execute_result"
    }
   ],
   "source": [
    "(((dagger(generate_state(4)))*v_0).evalf())"
   ]
  },
  {
   "cell_type": "code",
   "execution_count": 1,
   "id": "a9771c49",
   "metadata": {},
   "outputs": [
    {
     "ename": "NameError",
     "evalue": "name 'sp' is not defined",
     "output_type": "error",
     "traceback": [
      "\u001b[1;31m---------------------------------------------------------------------------\u001b[0m",
      "\u001b[1;31mNameError\u001b[0m                                 Traceback (most recent call last)",
      "Cell \u001b[1;32mIn[1], line 1\u001b[0m\n\u001b[1;32m----> 1\u001b[0m A03 \u001b[38;5;241m=\u001b[39m sp\u001b[38;5;241m.\u001b[39mMatrix([[\u001b[38;5;241m0\u001b[39m,\u001b[38;5;241m0\u001b[39m,\u001b[38;5;241m1\u001b[39m],[\u001b[38;5;241m1\u001b[39m,\u001b[38;5;241m0\u001b[39m,\u001b[38;5;241m0\u001b[39m],[\u001b[38;5;241m0\u001b[39m,\u001b[38;5;241m1\u001b[39m,\u001b[38;5;241m0\u001b[39m]])\n\u001b[0;32m      2\u001b[0m B03 \u001b[38;5;241m=\u001b[39m sp\u001b[38;5;241m.\u001b[39mMatrix([[\u001b[38;5;241m0\u001b[39m,\u001b[38;5;241m0\u001b[39m,\u001b[38;5;241m1\u001b[39m],[\u001b[38;5;241m1\u001b[39m,\u001b[38;5;241m0\u001b[39m,\u001b[38;5;241m0\u001b[39m],[\u001b[38;5;241m0\u001b[39m,\u001b[38;5;241m1\u001b[39m,\u001b[38;5;241m0\u001b[39m]])\n\u001b[0;32m      3\u001b[0m A13 \u001b[38;5;241m=\u001b[39m sp\u001b[38;5;241m.\u001b[39mMatrix([[\u001b[38;5;241m0\u001b[39m,\u001b[38;5;241m0\u001b[39m,\u001b[38;5;241m-\u001b[39mgetz2(\u001b[38;5;241m3\u001b[39m)],[getz2(\u001b[38;5;241m3\u001b[39m),\u001b[38;5;241m0\u001b[39m,\u001b[38;5;241m0\u001b[39m],[\u001b[38;5;241m0\u001b[39m,getz2(\u001b[38;5;241m3\u001b[39m),\u001b[38;5;241m0\u001b[39m]])\n",
      "\u001b[1;31mNameError\u001b[0m: name 'sp' is not defined"
     ]
    }
   ],
   "source": [
    "A03 = sp.Matrix([[0,0,1],[1,0,0],[0,1,0]])\n",
    "B03 = sp.Matrix([[0,0,1],[1,0,0],[0,1,0]])\n",
    "A13 = sp.Matrix([[0,0,-getz2(3)],[getz2(3),0,0],[0,getz2(3),0]])\n",
    "B13 = sp.Matrix([[0,-getz2(3),0],[0,0,getz2(3)],[getz2(3),0,0]])\n"
   ]
  },
  {
   "cell_type": "code",
   "execution_count": null,
   "id": "c17cc6bc",
   "metadata": {},
   "outputs": [],
   "source": []
  }
 ],
 "metadata": {
  "kernelspec": {
   "display_name": "Python 3 (ipykernel)",
   "language": "python",
   "name": "python3"
  },
  "language_info": {
   "codemirror_mode": {
    "name": "ipython",
    "version": 3
   },
   "file_extension": ".py",
   "mimetype": "text/x-python",
   "name": "python",
   "nbconvert_exporter": "python",
   "pygments_lexer": "ipython3",
   "version": "3.11.5"
  }
 },
 "nbformat": 4,
 "nbformat_minor": 5
}
