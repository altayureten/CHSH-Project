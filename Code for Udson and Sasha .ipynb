{
 "cells": [
  {
   "cell_type": "code",
   "execution_count": 18,
   "id": "45f4639c",
   "metadata": {},
   "outputs": [],
   "source": [
    "from qiskit_ibm_runtime import QiskitRuntimeService,SamplerV2 as Sampler\n",
    "from qiskit import transpile\n",
    "from qiskit import QuantumCircuit\n",
    "import qiskit.quantum_info as qi     #to make the custom unitary\n",
    "import numpy as np\n",
    "import sympy as sp\n",
    "from qiskit_aer import AerSimulator   #to simulate the circuit\n",
    "\n"
   ]
  },
  {
   "cell_type": "code",
   "execution_count": 107,
   "id": "bd777161",
   "metadata": {},
   "outputs": [],
   "source": [
    "#Initializations of functions. Do not worry about this. This is just doing the mathematics from the paper and just some shortcuts \n",
    "#to get and process data.\n",
    "\n",
    "service = QiskitRuntimeService(\n",
    "    channel='ibm_quantum',\n",
    "    instance='ibm-q/open/main',\n",
    "    token='372bffac302f0a3c1c1f8ee005fa53f8c7d66ab70e960ab8be23e55ca19a20147fd05a50adf1fd1fe352c93ee46967c82cd0d1b505725717505402f7014c5d53'\n",
    ")\n",
    "\n",
    "\n",
    "def get_raw_data(job_id):\n",
    "    job = service.job(job_id)\n",
    "    pub_result = job.result()[0]\n",
    "    return pub_result.data.c.get_counts()\n",
    "\n",
    "def send_circuit_to_IBM(circuit):\n",
    "    qc_transpiled = transpile(circuit, backend, optimization_level=3)\n",
    "    sampler = Sampler(backend=backend)\n",
    "    qc_job = sampler.run([qc_transpiled], shots=1000)\n",
    "\n",
    "\n",
    "def transform_bits_to_C4(input_dict):\n",
    "    transformed_dict = {}\n",
    "    for key, value in input_dict.items():\n",
    "        bit_pairs = [key[i:i+2] for i in range(0, len(key), 2)]\n",
    "        C4_representation = ''.join(str(int(pair, 2)) for pair in bit_pairs)\n",
    "        transformed_dict[C4_representation] = value\n",
    "    \n",
    "    return transformed_dict\n",
    "\n",
    "\n",
    "#conjugate transpose/adjoint of a matrix\n",
    "def dagger(matrix):\n",
    "    return matrix.T.conjugate()\n",
    "\n",
    "#normalizes vectors\n",
    "def normalize(vector):\n",
    "    magnitude_squared = 0\n",
    "    for component in vector:\n",
    "        magnitude_squared += component * sp.conjugate(component)\n",
    "    \n",
    "    magnitude = sp.sqrt(magnitude_squared)\n",
    "    normalized_vector = vector / magnitude\n",
    "    return normalized_vector\n",
    "\n",
    "\n",
    "def order(pair):\n",
    "    theta = sp.arg(pair[0])  # Compute argument (phase angle) of the eigenvalue\n",
    "    if theta < 0:\n",
    "        theta += 2*sp.pi  # Ensure theta is positive\n",
    "    return theta\n",
    "\n",
    "def getz2(n):\n",
    "    return (sp.exp((sp.I*sp.pi)/(2*n)))**2\n",
    "\n",
    "A0 = sp.Matrix([[0,0,0,1], [1,0,0,0],[0,1,0,0],[0,0,1,0]])\n",
    "B0 = sp.Matrix([[0,0,0,1], [1,0,0,0],[0,1,0,0],[0,0,1,0]])\n",
    "B1 = sp.Matrix([[0,-getz2(4),0,0], [0,0,getz2(4),0],[0,0,0,getz2(4)],[getz2(4),0,0,0]])\n",
    "A1 = sp.Matrix([[0,0,0,-getz2(4)],[getz2(4),0,0,0],[0,getz2(4),0,0],[0,0,getz2(4),0]])\n",
    "\n",
    "def get_sorted_normalized_eigenvectors(matrix):\n",
    "    # Compute eigenvalues and eigenvectors\n",
    "    eigenvects = matrix.eigenvects()\n",
    "    \n",
    "    # Flatten eigenvectors and associate them with their eigenvalues\n",
    "    eigen_pairs = [(eigenvalue, vect) for eigenvalue, multiplicity, vects in eigenvects for vect in vects]\n",
    "    \n",
    "    # Sort eigen_pairs based on the phase angle (theta) of the eigenvalues\n",
    "    sorted_list = sorted(eigen_pairs, key=order)    \n",
    "    sorted_eigenvectors = [tup[1] for tup in sorted_list]\n",
    "    normalized_eigenvectors = []\n",
    "    \n",
    "    for vector in sorted_eigenvectors:\n",
    "        normalized_eigenvectors.append(normalize(vector))\n",
    "    \n",
    "    return normalized_eigenvectors\n",
    "    \n",
    "\n",
    "#gets unitary based on the order of the eigenvectors input. first eigen vector gets mapped to 0 etc\n",
    "def get_unitary(ordered_list_of_normalized_eigenvectors):\n",
    "    dim = len(ordered_list_of_normalized_eigenvectors)\n",
    "    zero_vector = sp.zeros(dim, 1)\n",
    "    unitary = sp.zeros(dim, dim)\n",
    "    for i in range (0,dim):\n",
    "        zero_vector[i, 0] = 1      #corresponding basis vector\n",
    "        unitary += zero_vector*dagger(ordered_list_of_normalized_eigenvectors[i])\n",
    "        zero_vector = sp.zeros(dim, 1)\n",
    "    \n",
    "    return unitary \n",
    "\n",
    "#gets unitary from any given observable\n",
    "def get_unitary_from_observable(observable):\n",
    "    return get_unitary(get_sorted_normalized_eigenvectors(observable))\n",
    "\n",
    "\n",
    "def convert_mod4_to_Z4(player_output):\n",
    "    if player_output == 0:\n",
    "        return 1\n",
    "    elif player_output == 1:\n",
    "        return sp.I\n",
    "    elif player_output == 2:\n",
    "        return -1\n",
    "    elif player_output == 3:\n",
    "        return -sp.I\n",
    "    \n",
    "def check_win(x,y,a,b):\n",
    "    w_n = sp.I\n",
    "    if x == 0 and y == 0:\n",
    "        if a == b:\n",
    "            return 1\n",
    "    elif x == 0 and y == 1:\n",
    "        if a * b == 1:\n",
    "            return 1\n",
    "    elif x == 1 and y == 0:\n",
    "        if a == b:\n",
    "            return 1\n",
    "    elif x == 1 and y == 1:\n",
    "        if a * b == w_n:\n",
    "            return 1\n",
    "    return 0\n",
    "\n",
    "#Use this for jobs send to the quantum computer\n",
    "def process_data(alice_input, bob_input,job_id):  \n",
    "    total = 0\n",
    "    for bit_response in transform_bits_to_C4(get_raw_data(job_id)):\n",
    "            bob_output = int(bit_response[0])  \n",
    "            alice_output = int(bit_response[-1])\n",
    "            alice_output_Z4 = convert_mod4_to_Z4(alice_output)\n",
    "            bob_output_Z4 = convert_mod4_to_Z4(bob_output)\n",
    "        \n",
    "            if check_win(alice_input, bob_input, alice_output_Z4,bob_output_Z4 )==1:\n",
    "                total = total + transform_bits_to_C4(get_raw_data(job_id))[bit_response]\n",
    "            \n",
    "    return total/1000\n",
    "\n",
    "\n",
    "#use this for simulations using Aer\n",
    "def process_data_from_dict(alice_input, bob_input,results):  \n",
    "    total = 0\n",
    "    for bit_response in transform_bits_to_C4(results):\n",
    "            bob_output = int(bit_response[0])  \n",
    "            alice_output = int(bit_response[-1])\n",
    "            alice_output_Z4 = convert_mod4_to_Z4(alice_output)\n",
    "            bob_output_Z4 = convert_mod4_to_Z4(bob_output)\n",
    "            \n",
    "            if check_win(alice_input, bob_input, alice_output_Z4,bob_output_Z4 )==1:\n",
    "                total = total + transform_bits_to_C4(results)[bit_response]\n",
    "                \n",
    "            \n",
    "    return total/1000\n",
    "\n",
    "\n",
    "\n",
    "\n",
    "def simulate_circuit(circuit):\n",
    "    sim = AerSimulator()\n",
    "    job = sim.run(circuit,shots=1000)\n",
    "    results = job.result()\n",
    "    return results.get_counts()\n",
    "    \n",
    "\n"
   ]
  },
  {
   "cell_type": "code",
   "execution_count": 108,
   "id": "c90bab82",
   "metadata": {},
   "outputs": [],
   "source": [
    "#Initialize state and matricies \n",
    "\n",
    "A0 = sp.Matrix([[0,0,0,1], [1,0,0,0],[0,1,0,0],[0,0,1,0]])\n",
    "B0 = sp.Matrix([[0,0,0,1], [1,0,0,0],[0,1,0,0],[0,0,1,0]])\n",
    "B1 = sp.Matrix([[0,-getz2(4),0,0], [0,0,getz2(4),0],[0,0,0,getz2(4)],[getz2(4),0,0,0]])\n",
    "A1 = sp.Matrix([[0,0,0,-getz2(4)],[getz2(4),0,0,0],[0,getz2(4),0,0],[0,0,getz2(4),0]])\n",
    "\n",
    "#These are the observables. Not the unitaries! To get the unitaries from the observables apply the function in the next cell\n",
    "\n",
    "optimal_state=[0.3801932173932526-0.25403698614397946j,0j,0j,0j,0j,0j,0j,0.3801932173932526+0.25403698614397946j,0j,0j,0.5290046385320097+0.10522556500522232j,0j,0j,0.5290046385320097-0.10522556500522232j,0j,0j]\n",
    "\n"
   ]
  },
  {
   "cell_type": "code",
   "execution_count": 109,
   "id": "93ee289c",
   "metadata": {},
   "outputs": [
    {
     "data": {
      "text/latex": [
       "$\\displaystyle \\left[\\begin{matrix}\\frac{1}{2} & \\frac{1}{2} & \\frac{1}{2} & \\frac{1}{2}\\\\\\frac{i}{2} & - \\frac{1}{2} & - \\frac{i}{2} & \\frac{1}{2}\\\\- \\frac{1}{2} & \\frac{1}{2} & - \\frac{1}{2} & \\frac{1}{2}\\\\- \\frac{i}{2} & - \\frac{1}{2} & \\frac{i}{2} & \\frac{1}{2}\\end{matrix}\\right]$"
      ],
      "text/plain": [
       "Matrix([\n",
       "[ 1/2,  1/2,  1/2, 1/2],\n",
       "[ I/2, -1/2, -I/2, 1/2],\n",
       "[-1/2,  1/2, -1/2, 1/2],\n",
       "[-I/2, -1/2,  I/2, 1/2]])"
      ]
     },
     "execution_count": 109,
     "metadata": {},
     "output_type": "execute_result"
    }
   ],
   "source": [
    "get_unitary_from_observable(A0)"
   ]
  },
  {
   "cell_type": "code",
   "execution_count": 110,
   "id": "ed3527c1",
   "metadata": {},
   "outputs": [
    {
     "data": {
      "text/latex": [
       "$\\displaystyle \\left[\\begin{matrix}\\frac{1}{2} & \\frac{1}{2} & \\frac{1}{2} & \\frac{1}{2}\\\\\\frac{i}{2} & - \\frac{1}{2} & - \\frac{i}{2} & \\frac{1}{2}\\\\- \\frac{1}{2} & \\frac{1}{2} & - \\frac{1}{2} & \\frac{1}{2}\\\\- \\frac{i}{2} & - \\frac{1}{2} & \\frac{i}{2} & \\frac{1}{2}\\end{matrix}\\right]$"
      ],
      "text/plain": [
       "Matrix([\n",
       "[ 1/2,  1/2,  1/2, 1/2],\n",
       "[ I/2, -1/2, -I/2, 1/2],\n",
       "[-1/2,  1/2, -1/2, 1/2],\n",
       "[-I/2, -1/2,  I/2, 1/2]])"
      ]
     },
     "execution_count": 110,
     "metadata": {},
     "output_type": "execute_result"
    }
   ],
   "source": [
    "get_unitary_from_observable(B0)"
   ]
  },
  {
   "cell_type": "code",
   "execution_count": 111,
   "id": "01bb28be",
   "metadata": {},
   "outputs": [
    {
     "data": {
      "text/plain": [
       "<qiskit.circuit.instructionset.InstructionSet at 0x2383f2e2c50>"
      ]
     },
     "execution_count": 111,
     "metadata": {},
     "output_type": "execute_result"
    }
   ],
   "source": [
    "#Running The Circuits for n=4. All the different circuits are what unitaries Alice and Bob apply given a question pair.\n",
    "\n",
    "service = QiskitRuntimeService()\n",
    "backend = service.least_busy(operational=True, simulator=False, min_num_qubits=1)\n",
    "\n",
    "A0_U = qi.Operator(get_unitary_from_observable(A0).tolist())\n",
    "A1_U = qi.Operator(get_unitary_from_observable(A1).tolist())\n",
    "B0_U = qi.Operator(get_unitary_from_observable(B0).tolist())\n",
    "B1_U = qi.Operator(get_unitary_from_observable(B1).tolist())\n",
    "\n",
    "\n",
    "#Alice and Bob both get 0\n",
    "qc00 = QuantumCircuit(4,4)\n",
    "qc00.initialize(optimal_state,[0,1,2,3])\n",
    "qc00.barrier()\n",
    "qc00.unitary(A0_U,[0,1],label='A0')\n",
    "qc00.unitary(B0_U,[2,3],label='B0')\n",
    "qc00.measure([0,1,2,3],[0,1,2,3])\n",
    "\n",
    "\n",
    "#Alice gets 0 Bob gets 1\n",
    "qc01 = QuantumCircuit(4,4)\n",
    "qc01.initialize(optimal_state,[0,1,2,3])\n",
    "qc01.barrier()\n",
    "qc01.unitary(A0_U,[0,1],label='A0')\n",
    "qc01.unitary(B1_U,[2,3],label='B1')\n",
    "qc01.measure([0,1,2,3],[0,1,2,3])\n",
    "\n",
    "#Alice gets 1 Bob gets 0 \n",
    "qc10 = QuantumCircuit(4,4)\n",
    "qc10.initialize(optimal_state,[0,1,2,3])\n",
    "qc10.barrier()\n",
    "qc10.unitary(A1_U,[0,1],label='A1')\n",
    "qc10.unitary(B0_U,[2,3],label='B0')\n",
    "qc10.measure([0,1,2,3],[0,1,2,3])\n",
    "\n",
    "\n",
    "#Alice gets 1 Bob gets 1 \n",
    "qc11 = QuantumCircuit(4,4)\n",
    "qc11.initialize(optimal_state,[0,1,2,3])\n",
    "qc11.barrier()\n",
    "qc11.unitary(A1_U,[0,1],label='A1')\n",
    "qc11.unitary(B1_U,[2,3],label='B1')\n",
    "qc11.measure([0,1,2,3],[0,1,2,3])\n",
    "\n",
    "\n",
    "#see send_circuit_to_IBM function to send these circuits indivdually to IBM. To see how well the results did you can use the \n",
    "#process_data function that takes the job id as input as well as Alices and Bobs Inputs. The win percent for this game should be around 81%"
   ]
  },
  {
   "cell_type": "code",
   "execution_count": 112,
   "id": "c22a8dcc",
   "metadata": {},
   "outputs": [
    {
     "data": {
      "image/png": "[encoded data removed]",
      "text/plain": [
       "<Figure size 1374.44x451.5 with 1 Axes>"
      ]
     },
     "execution_count": 112,
     "metadata": {},
     "output_type": "execute_result"
    }
   ],
   "source": [
    "qc00.draw(output='mpl')"
   ]
  },
  {
   "cell_type": "code",
   "execution_count": 113,
   "id": "14d9292a",
   "metadata": {},
   "outputs": [
    {
     "data": {
      "text/plain": [
       "0.828"
      ]
     },
     "execution_count": 113,
     "metadata": {},
     "output_type": "execute_result"
    }
   ],
   "source": [
    "process_data_from_dict(1,1,simulate_circuit(qc11))\n"
   ]
  },
  {
   "cell_type": "code",
   "execution_count": null,
   "id": "a6c575dd",
   "metadata": {},
   "outputs": [],
   "source": [
    "#Notes: amplitude encoding, new transpilers (merge gates),other libraries "
   ]
  }
 ],
 "metadata": {
  "kernelspec": {
   "display_name": "MyKernel",
   "language": "python",
   "name": "mykernel"
  },
  "language_info": {
   "codemirror_mode": {
    "name": "ipython",
    "version": 3
   },
   "file_extension": ".py",
   "mimetype": "text/x-python",
   "name": "python",
   "nbconvert_exporter": "python",
   "pygments_lexer": "ipython3",
   "version": "3.11.1"
  }
 },
 "nbformat": 4,
 "nbformat_minor": 5
}
